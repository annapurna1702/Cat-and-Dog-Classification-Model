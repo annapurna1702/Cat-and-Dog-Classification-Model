{
 "cells": [
  {
   "cell_type": "code",
   "execution_count": 2,
   "metadata": {},
   "outputs": [
    {
     "name": "stderr",
     "output_type": "stream",
     "text": [
      "c:\\Users\\green\\AppData\\Local\\Programs\\Python\\Python312\\Lib\\site-packages\\sklearn\\svm\\_classes.py:31: FutureWarning: The default value of `dual` will change from `True` to `'auto'` in 1.5. Set the value of `dual` explicitly to suppress the warning.\n",
      "  warnings.warn(\n"
     ]
    },
    {
     "name": "stdout",
     "output_type": "stream",
     "text": [
      "Accuracy: 66.81%\n",
      "Confusion Matrix:\n",
      "[[1616  898]\n",
      " [ 761 1724]]\n"
     ]
    },
    {
     "name": "stderr",
     "output_type": "stream",
     "text": [
      "c:\\Users\\green\\AppData\\Local\\Programs\\Python\\Python312\\Lib\\site-packages\\sklearn\\svm\\_base.py:1237: ConvergenceWarning: Liblinear failed to converge, increase the number of iterations.\n",
      "  warnings.warn(\n"
     ]
    }
   ],
   "source": [
    "import os\n",
    "import cv2\n",
    "import numpy as np\n",
    "from skimage.feature import hog\n",
    "from sklearn.svm import LinearSVC\n",
    "from sklearn.metrics import accuracy_score, confusion_matrix,classification_report\n",
    "from sklearn.model_selection import train_test_split\n",
    "from sklearn.preprocessing import StandardScaler\n",
    "from sklearn.decomposition import PCA\n",
    "\n",
    "\n",
    "def preprocess_image(image_path):\n",
    "    image = cv2.imread(image_path, cv2.IMREAD_GRAYSCALE) \n",
    "    if image is None:\n",
    "        raise ValueError(f\"Image at {image_path} could not be loaded.\")\n",
    "    image = cv2.resize(image, (128, 128))  \n",
    "    return image\n",
    "\n",
    "\n",
    "def extract_hog_features(image):\n",
    "    features, hog_image = hog(image, pixels_per_cell=(16, 16), cells_per_block=(2, 2), visualize=True)\n",
    "    return features\n",
    "\n",
    "\n",
    "def load_dataset(train_dir):\n",
    "    X = []\n",
    "    y = []\n",
    "    label_map = {'cat': 0, 'dog': 1}\n",
    "\n",
    "    for img_name in os.listdir(train_dir):\n",
    "        img_path = os.path.join(train_dir, img_name)\n",
    "        if 'cat' in img_name:\n",
    "            label = label_map['cat']\n",
    "        elif 'dog' in img_name:\n",
    "            label = label_map['dog']\n",
    "        else:\n",
    "            continue  \n",
    "        \n",
    "        img = preprocess_image(img_path)\n",
    "        features = extract_hog_features(img)\n",
    "        X.append(features)\n",
    "        y.append(label)\n",
    "    \n",
    "    return np.array(X), np.array(y)\n",
    "\n",
    "\n",
    "train_dir = 'train'\n",
    "\n",
    "\n",
    "X, y = load_dataset(train_dir)\n",
    "\n",
    "\n",
    "scaler = StandardScaler()\n",
    "X = scaler.fit_transform(X)\n",
    "\n",
    "\n",
    "pca = PCA(n_components=50)  \n",
    "X_pca = pca.fit_transform(X)\n",
    "\n",
    "\n",
    "X_train, X_test, y_train, y_test = train_test_split(X_pca, y, test_size=0.2, random_state=42)\n",
    "\n",
    "\n",
    "model = LinearSVC()\n",
    "model.fit(X_train, y_train)\n",
    "\n",
    "\n",
    "y_pred = model.predict(X_test)\n",
    "accuracy = accuracy_score(y_test, y_pred)\n",
    "conf_matrix = confusion_matrix(y_test, y_pred)\n",
    "\n",
    "print(f'Accuracy: {accuracy * 100:.2f}%')\n",
    "print('Confusion Matrix:')\n",
    "print(conf_matrix)\n",
    "\n"
   ]
  },
  {
   "cell_type": "code",
   "execution_count": 3,
   "metadata": {},
   "outputs": [
    {
     "name": "stdout",
     "output_type": "stream",
     "text": [
      "              precision    recall  f1-score   support\n",
      "\n",
      "           0       0.68      0.64      0.66      2514\n",
      "           1       0.66      0.69      0.68      2485\n",
      "\n",
      "    accuracy                           0.67      4999\n",
      "   macro avg       0.67      0.67      0.67      4999\n",
      "weighted avg       0.67      0.67      0.67      4999\n",
      "\n"
     ]
    }
   ],
   "source": [
    "from sklearn.metrics import classification_report\n",
    "print(classification_report(y_test,y_pred))"
   ]
  },
  {
   "cell_type": "code",
   "execution_count": 6,
   "metadata": {},
   "outputs": [
    {
     "name": "stdout",
     "output_type": "stream",
     "text": [
      "The image is a: Cat\n"
     ]
    }
   ],
   "source": [
    "def predict_new_image(image_path):\n",
    "    new_image = preprocess_image(image_path)\n",
    "    new_features = extract_hog_features(new_image)\n",
    "    new_features = scaler.transform([new_features])\n",
    "    new_features = pca.transform(new_features)\n",
    "    prediction = model.predict(new_features)\n",
    "    if prediction[0]==0:\n",
    "      label = 'Cat' \n",
    "    else :\n",
    "       label='Dog'\n",
    "    return label\n",
    "\n",
    "\n",
    "new_image_path = 'kitty.jpeg'  \n",
    "label = predict_new_image(new_image_path)\n",
    "print(f'The image is a: {label}')"
   ]
  }
 ],
 "metadata": {
  "kernelspec": {
   "display_name": "Python 3",
   "language": "python",
   "name": "python3"
  },
  "language_info": {
   "codemirror_mode": {
    "name": "ipython",
    "version": 3
   },
   "file_extension": ".py",
   "mimetype": "text/x-python",
   "name": "python",
   "nbconvert_exporter": "python",
   "pygments_lexer": "ipython3",
   "version": "3.12.2"
  }
 },
 "nbformat": 4,
 "nbformat_minor": 2
}
